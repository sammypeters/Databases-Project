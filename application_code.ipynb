{
 "cells": [
  {
   "cell_type": "code",
   "execution_count": 1,
   "metadata": {},
   "outputs": [
    {
     "name": "stdout",
     "output_type": "stream",
     "text": [
      "Requirement already satisfied: psycopg2-binary in c:\\users\\f\\anaconda3\\lib\\site-packages (2.9.3)\n",
      "Note: you may need to restart the kernel to use updated packages.\n"
     ]
    }
   ],
   "source": [
    "pip install psycopg2-binary\n"
   ]
  },
  {
   "cell_type": "markdown",
   "metadata": {},
   "source": [
    "The following code conntects to the database, executes a basic query, and displays the result to the user. "
   ]
  },
  {
   "cell_type": "code",
   "execution_count": 2,
   "metadata": {
    "scrolled": true
   },
   "outputs": [
    {
     "name": "stdout",
     "output_type": "stream",
     "text": [
      "[(85610, 97301, Decimal('408.00'), datetime.date(2000, 12, 31), Decimal('150000.00'), Decimal('2052033.00'), 638), (68262, 57189, Decimal('402.00'), datetime.date(2018, 6, 6), Decimal('9361602.00'), Decimal('6093446.00'), 453), (35574, 60033, Decimal('331.00'), datetime.date(2020, 6, 4), Decimal('6269812.00'), Decimal('4491732.00'), 925), (97587, 44069, Decimal('160.00'), datetime.date(2020, 6, 4), Decimal('5149029.00'), Decimal('9631141.00'), 32), (98385, 82520, Decimal('22.00'), datetime.date(2020, 6, 4), Decimal('4803640.00'), Decimal('8241835.00'), 478), (86534, 33062, Decimal('133.00'), datetime.date(2020, 6, 4), Decimal('570802.00'), Decimal('1553028.00'), 315), (86268, 70498, Decimal('347.00'), datetime.date(2020, 6, 4), Decimal('442143.00'), Decimal('100000.00'), 154), (93292, 57423, Decimal('84.00'), datetime.date(2020, 6, 4), Decimal('8768809.00'), Decimal('2281646.00'), 907)]\n"
     ]
    }
   ],
   "source": [
    "import psycopg2\n",
    "\n",
    "##connecting to the database\n",
    "connection = psycopg2.connect(user=\"postgres\", password=\"Laxislife15!\", database=\"realEstateInvestmentCompany2\", host=\"localhost\")\n",
    "##Creating a cursor\n",
    "cursor = connection.cursor()\n",
    "cursor.execute(f\"SELECT * FROM current_properties\")\n",
    "query_1 = cursor.fetchall()\n",
    "print(query_1)\n",
    "cursor.close()\n",
    "connection.close()"
   ]
  },
  {
   "cell_type": "markdown",
   "metadata": {},
   "source": [
    "The following python code accesses the stored procedure, late_fee, and utilizes a try and except clause. "
   ]
  },
  {
   "cell_type": "code",
   "execution_count": 20,
   "metadata": {},
   "outputs": [],
   "source": [
    "import psycopg2\n",
    "def bar(foo):\n",
    "    conn = None\n",
    "    try:\n",
    "        params = config()\n",
    "        conn = psycopg2.connect(**params)\n",
    "        cur = conn.cursor()\n",
    "        cur.execute('CALL late_fee(%s)', (foo))\n",
    "        conn.commit()\n",
    "        cur.close()\n",
    "    except (Exception, psycopg2.DatabaseError) as error:\n",
    "        print(error)\n",
    "    finally:\n",
    "        if conn is not None:\n",
    "            conn.close()\n",
    "    "
   ]
  },
  {
   "cell_type": "code",
   "execution_count": null,
   "metadata": {},
   "outputs": [],
   "source": []
  }
 ],
 "metadata": {
  "kernelspec": {
   "display_name": "Python 3",
   "language": "python",
   "name": "python3"
  },
  "language_info": {
   "codemirror_mode": {
    "name": "ipython",
    "version": 3
   },
   "file_extension": ".py",
   "mimetype": "text/x-python",
   "name": "python",
   "nbconvert_exporter": "python",
   "pygments_lexer": "ipython3",
   "version": "3.8.5"
  }
 },
 "nbformat": 4,
 "nbformat_minor": 4
}
